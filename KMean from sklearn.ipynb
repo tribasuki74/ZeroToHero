{
 "cells": [
  {
   "cell_type": "code",
   "execution_count": 3,
   "metadata": {},
   "outputs": [
    {
     "name": "stdout",
     "output_type": "stream",
     "text": [
      "[[  3.108459 101.671521]\n",
      " [  3.166217 101.64277 ]\n",
      " [  3.05843  101.67498 ]\n",
      " [  3.146544 101.706784]\n",
      " [  3.072845 101.700153]\n",
      " [  3.152029 101.738007]\n",
      " [  3.152173 101.712648]\n",
      " [  3.151061 101.663871]\n",
      " [  3.083242 101.67733 ]\n",
      " [  3.141341 101.663463]]\n"
     ]
    }
   ],
   "source": [
    "import pandas as pd\n",
    "import numpy as np\n",
    "\n",
    "# read from local drive\n",
    "# file_url = \"dataset/geolocation.csv\"\n",
    "\n",
    "# read from github\n",
    "file_url = \"https://raw.githubusercontent.com/tribasuki74/clustering01/main/dataset/geolocation.csv\"\n",
    "\n",
    "data = pd.read_csv(file_url)\n",
    "features = data[['lat', 'lng']]\n",
    "X = np.array(features)\n",
    "print(X[:10])\n"
   ]
  },
  {
   "cell_type": "code",
   "execution_count": null,
   "metadata": {},
   "outputs": [],
   "source": [
    "from sklearn.cluster import KMeans\n",
    "\n",
    "# create kmeans model/object\n",
    "kmeans = KMeans(\n",
    "    init=\"random\",\n",
    "    n_clusters=16,\n",
    "    n_init=10,\n",
    "    max_iter=300,\n",
    "    random_state=42\n",
    ")\n"
   ]
  },
  {
   "cell_type": "code",
   "execution_count": null,
   "metadata": {},
   "outputs": [],
   "source": [
    "# do clustering\n",
    "kmeans.fit(X)\n",
    "\n",
    "# save results\n",
    "labels = kmeans.labels_\n"
   ]
  },
  {
   "cell_type": "code",
   "execution_count": null,
   "metadata": {},
   "outputs": [],
   "source": [
    "# send back into dataframe and display it\n",
    "data['cluster'] = labels\n",
    "\n",
    "# display the number of mamber each clustering\n",
    "_clusters = data.groupby('cluster')['no'].count()\n",
    "print(_clusters)\n"
   ]
  },
  {
   "cell_type": "code",
   "execution_count": null,
   "metadata": {},
   "outputs": [],
   "source": []
  }
 ],
 "metadata": {
  "kernelspec": {
   "display_name": "Python 3 (ipykernel)",
   "language": "python",
   "name": "python3"
  },
  "language_info": {
   "codemirror_mode": {
    "name": "ipython",
    "version": 3
   },
   "file_extension": ".py",
   "mimetype": "text/x-python",
   "name": "python",
   "nbconvert_exporter": "python",
   "pygments_lexer": "ipython3",
   "version": "3.8.19"
  }
 },
 "nbformat": 4,
 "nbformat_minor": 4
}
