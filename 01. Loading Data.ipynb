{
 "cells": [
  {
   "cell_type": "markdown",
   "id": "637001fd-7bec-4794-b5d1-6de481849fef",
   "metadata": {},
   "source": [
    "# Import Libraries \n",
    "\n"
   ]
  },
  {
   "cell_type": "code",
   "execution_count": null,
   "id": "5c4dee0a-ed2a-4b20-a422-705944867f55",
   "metadata": {},
   "outputs": [],
   "source": [
    "# This Python 3 environment comes with many helpful analytics libraries installed\n",
    "\n",
    "import numpy as np # linear algebra\n",
    "import pandas as pd # data processing, CSV file I/O (e.g. pd.read_csv)\n",
    "import matplotlib.pyplot as plt\n",
    "import seaborn as sns\n"
   ]
  },
  {
   "cell_type": "markdown",
   "id": "aca73c96-b180-4105-a468-a2b08184d214",
   "metadata": {},
   "source": [
    "# Loading Data"
   ]
  },
  {
   "cell_type": "code",
   "execution_count": null,
   "id": "60b2b8c0-2c38-4a47-a363-7155c4118319",
   "metadata": {},
   "outputs": [],
   "source": [
    "# # read from Google Drive\n",
    "# from google.colab import drive \n",
    "# drive.mount('/content/drive', force_remount=True)\n",
    "# path = 'drive/My Drive/Developments/'\n",
    "# !ls 'drive/My Drive/Developments/'\n",
    "# df=pd.read_csv(path + 'diabetes_prediction_dataset.csv')\n",
    "# display(df.head(5))\n",
    "\n",
    "# # read from github.com\n",
    "# url_file = \"https://raw.githubusercontent.com/tribasuki74/predictive_anaysis/main/dataset/diabetes_prediction_dataset.csv\"\n",
    "# df = pd.read_csv(url_file)\n",
    "\n",
    "# read from local drive\n",
    "url_file = \"dataset/diabetes_prediction_dataset.csv\"\n",
    "df = pd.read_csv(url_file)\n",
    "\n",
    "display(df.head(5))\n",
    "print(df.shape)\n"
   ]
  }
 ],
 "metadata": {
  "kernelspec": {
   "display_name": "Python 3 (ipykernel)",
   "language": "python",
   "name": "python3"
  },
  "language_info": {
   "codemirror_mode": {
    "name": "ipython",
    "version": 3
   },
   "file_extension": ".py",
   "mimetype": "text/x-python",
   "name": "python",
   "nbconvert_exporter": "python",
   "pygments_lexer": "ipython3",
   "version": "3.9.19"
  }
 },
 "nbformat": 4,
 "nbformat_minor": 5
}
