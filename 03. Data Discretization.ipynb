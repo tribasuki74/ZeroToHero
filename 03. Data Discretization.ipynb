{
 "cells": [
  {
   "cell_type": "markdown",
   "id": "699ceddb-9f33-42ba-aa3a-7f3c5ba2a61d",
   "metadata": {},
   "source": [
    "# using pandas cut()\n",
    "\n",
    "https://dagster.io/glossary/data-discretization\n"
   ]
  },
  {
   "cell_type": "code",
   "execution_count": 1,
   "id": "2ef065f1-ab60-4b17-a8b7-04afb101abae",
   "metadata": {},
   "outputs": [
    {
     "name": "stdout",
     "output_type": "stream",
     "text": [
      "   values    bins\n",
      "0       1     Low\n",
      "1       2     Low\n",
      "2       3     Low\n",
      "3       4     Low\n",
      "4       5  Medium\n",
      "5       6  Medium\n",
      "6       7  Medium\n",
      "7       8    High\n",
      "8       9    High\n",
      "9      10    High\n"
     ]
    }
   ],
   "source": [
    "import pandas as pd\n",
    "\n",
    "# create a sample dataset\n",
    "data = pd.DataFrame({'values': [1, 2, 3, 4, 5, 6, 7, 8, 9, 10]})\n",
    "\n",
    "# bin the values into three intervals\n",
    "data['bins'] = pd.cut(data['values'], bins=3, labels=['Low', 'Medium', 'High'])\n",
    "\n",
    "# view the binned data\n",
    "print(data)\n",
    "\n"
   ]
  },
  {
   "cell_type": "markdown",
   "id": "f8d459bb-9759-4569-b3aa-4d6c62466933",
   "metadata": {},
   "source": [
    "# Other example using cut"
   ]
  },
  {
   "cell_type": "code",
   "execution_count": 2,
   "id": "795c03a4-dcb0-4361-ab66-7fd9478c6514",
   "metadata": {},
   "outputs": [
    {
     "name": "stdout",
     "output_type": "stream",
     "text": [
      "   ages    age_group\n",
      "0    21  young adult\n",
      "1    32  young adult\n",
      "2    45  middle-aged\n",
      "3    18        child\n",
      "4    52       senior\n",
      "5    28  young adult\n",
      "6    38  middle-aged\n",
      "7    50  middle-aged\n"
     ]
    }
   ],
   "source": [
    "import pandas as pd\n",
    "\n",
    "# create a sample dataset\n",
    "data = {'ages': [21, 32, 45, 18, 52, 28, 38, 50]}\n",
    "df = pd.DataFrame(data)\n",
    "\n",
    "bins = [0, 18, 35, 50, float('inf')]\n",
    "labels = ['child', 'young adult', 'middle-aged', 'senior']\n",
    "\n",
    "df['age_group'] = pd.cut(df['ages'], bins=bins, labels=labels)\n",
    "\n",
    "print(df)\n"
   ]
  },
  {
   "cell_type": "markdown",
   "id": "55890370-460f-42ee-ad3a-1b78c9c3ee5a",
   "metadata": {},
   "source": [
    "# using scikit-learn"
   ]
  },
  {
   "cell_type": "code",
   "execution_count": 3,
   "id": "15ac3782-5d9b-4098-9c96-e3782a0afb3e",
   "metadata": {},
   "outputs": [
    {
     "name": "stdout",
     "output_type": "stream",
     "text": [
      "[[0.]\n",
      " [0.]\n",
      " [0.]\n",
      " [1.]\n",
      " [1.]\n",
      " [1.]\n",
      " [2.]\n",
      " [2.]\n",
      " [2.]\n",
      " [2.]]\n"
     ]
    }
   ],
   "source": [
    "from sklearn.preprocessing import KBinsDiscretizer\n",
    "\n",
    "# create a sample dataset\n",
    "data = [[1], [2], [3], [4], [5], [6], [7], [8], [9], [10]]\n",
    "\n",
    "# bin the values into three intervals\n",
    "discretizer = KBinsDiscretizer(n_bins=3, encode='ordinal', strategy='uniform')\n",
    "data_bins = discretizer.fit_transform(data)\n",
    "\n",
    "# view the binned data\n",
    "print(data_bins)\n"
   ]
  },
  {
   "cell_type": "code",
   "execution_count": null,
   "id": "d2e4f8b8-254b-4df5-9274-e54ef28011fa",
   "metadata": {},
   "outputs": [],
   "source": []
  }
 ],
 "metadata": {
  "kernelspec": {
   "display_name": "Python 3 (ipykernel)",
   "language": "python",
   "name": "python3"
  },
  "language_info": {
   "codemirror_mode": {
    "name": "ipython",
    "version": 3
   },
   "file_extension": ".py",
   "mimetype": "text/x-python",
   "name": "python",
   "nbconvert_exporter": "python",
   "pygments_lexer": "ipython3",
   "version": "3.9.19"
  }
 },
 "nbformat": 4,
 "nbformat_minor": 5
}
