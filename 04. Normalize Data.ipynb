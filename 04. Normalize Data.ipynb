{
 "cells": [
  {
   "cell_type": "markdown",
   "id": "adb11fcf-bd7d-4bab-a1ba-923cfe6ad482",
   "metadata": {},
   "source": [
    "# Normalize Data\n",
    "\n",
    "https://www.digitalocean.com/community/tutorials/normalize-data-in-python\n"
   ]
  },
  {
   "cell_type": "code",
   "execution_count": 1,
   "id": "f291c1da-1d5c-486c-a25f-7dcfd0458cf7",
   "metadata": {},
   "outputs": [
    {
     "name": "stdout",
     "output_type": "stream",
     "text": [
      "[[0.11785113 0.1767767  0.29462783 0.35355339 0.41247896 0.23570226\n",
      "  0.47140452 0.41247896 0.35355339]]\n"
     ]
    }
   ],
   "source": [
    "from sklearn import preprocessing\n",
    "import numpy as np\n",
    "\n",
    "x_array = np.array([2,3,5,6,7,4,8,7,6])\n",
    "normalized_arr = preprocessing.normalize([x_array])\n",
    "print(normalized_arr)\n"
   ]
  },
  {
   "cell_type": "markdown",
   "id": "38ef1b91-4ca4-4960-8025-b7aac1ffa12c",
   "metadata": {},
   "source": [
    "# Normalizing Columns from a DataFrame Using the normalize() Function"
   ]
  },
  {
   "cell_type": "code",
   "execution_count": 8,
   "id": "0e7668ae-5f25-4c80-9d43-8e8504efb5a3",
   "metadata": {},
   "outputs": [
    {
     "name": "stdout",
     "output_type": "stream",
     "text": [
      "       MedInc  HouseAge  AveRooms  AveBedrms  Population  AveOccup  Latitude  \\\n",
      "0      8.3252      41.0  6.984127   1.023810       322.0  2.555556     37.88   \n",
      "1      8.3014      21.0  6.238137   0.971880      2401.0  2.109842     37.86   \n",
      "2      7.2574      52.0  8.288136   1.073446       496.0  2.802260     37.85   \n",
      "3      5.6431      52.0  5.817352   1.073059       558.0  2.547945     37.85   \n",
      "4      3.8462      52.0  6.281853   1.081081       565.0  2.181467     37.85   \n",
      "...       ...       ...       ...        ...         ...       ...       ...   \n",
      "20635  1.5603      25.0  5.045455   1.133333       845.0  2.560606     39.48   \n",
      "20636  2.5568      18.0  6.114035   1.315789       356.0  3.122807     39.49   \n",
      "20637  1.7000      17.0  5.205543   1.120092      1007.0  2.325635     39.43   \n",
      "20638  1.8672      18.0  5.329513   1.171920       741.0  2.123209     39.43   \n",
      "20639  2.3886      16.0  5.254717   1.162264      1387.0  2.616981     39.37   \n",
      "\n",
      "       Longitude  \n",
      "0        -122.23  \n",
      "1        -122.22  \n",
      "2        -122.24  \n",
      "3        -122.25  \n",
      "4        -122.25  \n",
      "...          ...  \n",
      "20635    -121.09  \n",
      "20636    -121.21  \n",
      "20637    -121.22  \n",
      "20638    -121.32  \n",
      "20639    -121.24  \n",
      "\n",
      "[20640 rows x 8 columns]\n",
      ".. _california_housing_dataset:\n",
      "\n",
      "California Housing dataset\n",
      "--------------------------\n",
      "\n",
      "**Data Set Characteristics:**\n",
      "\n",
      ":Number of Instances: 20640\n",
      "\n",
      ":Number of Attributes: 8 numeric, predictive attributes and the target\n",
      "\n",
      ":Attribute Information:\n",
      "    - MedInc        median income in block group\n",
      "    - HouseAge      median house age in block group\n",
      "    - AveRooms      average number of rooms per household\n",
      "    - AveBedrms     average number of bedrooms per household\n",
      "    - Population    block group population\n",
      "    - AveOccup      average number of household members\n",
      "    - Latitude      block group latitude\n",
      "    - Longitude     block group longitude\n",
      "\n",
      ":Missing Attribute Values: None\n",
      "\n",
      "This dataset was obtained from the StatLib repository.\n",
      "https://www.dcc.fc.up.pt/~ltorgo/Regression/cal_housing.html\n",
      "\n",
      "The target variable is the median house value for California districts,\n",
      "expressed in hundreds of thousands of dollars ($100,000).\n",
      "\n",
      "This dataset was derived from the 1990 U.S. census, using one row per census\n",
      "block group. A block group is the smallest geographical unit for which the U.S.\n",
      "Census Bureau publishes sample data (a block group typically has a population\n",
      "of 600 to 3,000 people).\n",
      "\n",
      "A household is a group of people residing within a home. Since the average\n",
      "number of rooms and bedrooms in this dataset are provided per household, these\n",
      "columns may take surprisingly large values for block groups with few households\n",
      "and many empty houses, such as vacation resorts.\n",
      "\n",
      "It can be downloaded/loaded using the\n",
      ":func:`sklearn.datasets.fetch_california_housing` function.\n",
      "\n",
      ".. rubric:: References\n",
      "\n",
      "- Pace, R. Kelley and Ronald Barry, Sparse Spatial Autoregressions,\n",
      "  Statistics and Probability Letters, 33 (1997) 291-297\n",
      "\n"
     ]
    }
   ],
   "source": [
    "import numpy as np\n",
    "from sklearn import preprocessing\n",
    "from sklearn.datasets import fetch_california_housing\n",
    "\n",
    "# create the DataFrame\n",
    "california_housing = fetch_california_housing(as_frame=True)\n",
    "\n",
    "print(california_housing.data)\n",
    "\n",
    "# print the dataset description\n",
    "print(california_housing.DESCR)\n"
   ]
  },
  {
   "cell_type": "code",
   "execution_count": 9,
   "id": "626eff3d-99e0-45db-9030-03faae1f4537",
   "metadata": {},
   "outputs": [
    {
     "name": "stdout",
     "output_type": "stream",
     "text": [
      "HouseAge array:  [41. 21. 52. ... 17. 18. 16.]\n"
     ]
    }
   ],
   "source": [
    "x_array = np.array(california_housing.data['HouseAge'])\n",
    "print(\"HouseAge array: \",x_array)\n"
   ]
  },
  {
   "cell_type": "code",
   "execution_count": 10,
   "id": "6a447ad6-29b1-4fca-b1d9-d43ff3335556",
   "metadata": {},
   "outputs": [
    {
     "name": "stdout",
     "output_type": "stream",
     "text": [
      "Normalized HouseAge array:  [[0.00912272 0.00467261 0.01157028 ... 0.00378259 0.0040051  0.00356009]]\n"
     ]
    }
   ],
   "source": [
    "normalized_arr = preprocessing.normalize([x_array])\n",
    "print(\"Normalized HouseAge array: \",normalized_arr)\n"
   ]
  },
  {
   "cell_type": "markdown",
   "id": "885a9da4-3a77-4b2c-8817-5c5fcd997a5f",
   "metadata": {},
   "source": [
    "# Normalizing Datasets by Row or by Column Using the normalize() Function\n"
   ]
  },
  {
   "cell_type": "code",
   "execution_count": 11,
   "id": "94cea814-16f4-457a-a480-f31cf823d86e",
   "metadata": {},
   "outputs": [
    {
     "name": "stdout",
     "output_type": "stream",
     "text": [
      "         MedInc  HouseAge  AveRooms  AveBedrms  Population  AveOccup  \\\n",
      "0      0.023848  0.117447  0.020007   0.002933    0.922391  0.007321   \n",
      "1      0.003452  0.008734  0.002594   0.000404    0.998535  0.000877   \n",
      "2      0.014092  0.100971  0.016093   0.002084    0.963106  0.005441   \n",
      "3      0.009816  0.090449  0.010119   0.001866    0.970590  0.004432   \n",
      "4      0.006612  0.089394  0.010799   0.001859    0.971303  0.003750   \n",
      "...         ...       ...       ...        ...         ...       ...   \n",
      "20635  0.001825  0.029242  0.005902   0.001326    0.988384  0.002995   \n",
      "20636  0.006753  0.047539  0.016147   0.003475    0.940212  0.008247   \n",
      "20637  0.001675  0.016746  0.005128   0.001103    0.991926  0.002291   \n",
      "20638  0.002483  0.023932  0.007086   0.001558    0.985188  0.002823   \n",
      "20639  0.001715  0.011486  0.003772   0.000834    0.995727  0.001879   \n",
      "\n",
      "       Latitude  Longitude  \n",
      "0      0.108510  -0.350136  \n",
      "1      0.015745  -0.050829  \n",
      "2      0.073495  -0.237359  \n",
      "3      0.065837  -0.212643  \n",
      "4      0.065069  -0.210162  \n",
      "...         ...        ...  \n",
      "20635  0.046179  -0.141637  \n",
      "20636  0.104295  -0.320121  \n",
      "20637  0.038840  -0.119405  \n",
      "20638  0.052424  -0.161300  \n",
      "20639  0.028264  -0.087038  \n",
      "\n",
      "[20640 rows x 8 columns]\n"
     ]
    }
   ],
   "source": [
    "from sklearn import preprocessing\n",
    "import pandas as pd\n",
    "\n",
    "from sklearn.datasets import fetch_california_housing\n",
    "california_housing = fetch_california_housing(as_frame=True)\n",
    "\n",
    "d = preprocessing.normalize(california_housing.data)\n",
    "scaled_df = pd.DataFrame(d, columns=california_housing.data.columns)\n",
    "print(scaled_df)\n"
   ]
  },
  {
   "cell_type": "code",
   "execution_count": 12,
   "id": "f073b0ae-e236-4ec8-980c-d713c871b0c3",
   "metadata": {},
   "outputs": [
    {
     "name": "stdout",
     "output_type": "stream",
     "text": [
      "         MedInc  HouseAge  AveRooms  AveBedrms  Population  AveOccup  \\\n",
      "0      0.013440  0.009123  0.008148   0.005965    0.001231  0.001642   \n",
      "1      0.013401  0.004673  0.007278   0.005662    0.009180  0.001356   \n",
      "2      0.011716  0.011570  0.009670   0.006254    0.001896  0.001801   \n",
      "3      0.009110  0.011570  0.006787   0.006252    0.002133  0.001638   \n",
      "4      0.006209  0.011570  0.007329   0.006299    0.002160  0.001402   \n",
      "...         ...       ...       ...        ...         ...       ...   \n",
      "20635  0.002519  0.005563  0.005886   0.006603    0.003231  0.001646   \n",
      "20636  0.004128  0.004005  0.007133   0.007666    0.001361  0.002007   \n",
      "20637  0.002744  0.003783  0.006073   0.006526    0.003850  0.001495   \n",
      "20638  0.003014  0.004005  0.006218   0.006828    0.002833  0.001365   \n",
      "20639  0.003856  0.003560  0.006131   0.006772    0.005303  0.001682   \n",
      "\n",
      "       Latitude  Longitude  \n",
      "0      0.007386  -0.007114  \n",
      "1      0.007383  -0.007114  \n",
      "2      0.007381  -0.007115  \n",
      "3      0.007381  -0.007116  \n",
      "4      0.007381  -0.007116  \n",
      "...         ...        ...  \n",
      "20635  0.007698  -0.007048  \n",
      "20636  0.007700  -0.007055  \n",
      "20637  0.007689  -0.007056  \n",
      "20638  0.007689  -0.007061  \n",
      "20639  0.007677  -0.007057  \n",
      "\n",
      "[20640 rows x 8 columns]\n"
     ]
    }
   ],
   "source": [
    "from sklearn import preprocessing\n",
    "import pandas as pd\n",
    "\n",
    "from sklearn.datasets import fetch_california_housing\n",
    "california_housing = fetch_california_housing(as_frame=True)\n",
    "\n",
    "d = preprocessing.normalize(california_housing.data, axis=0)\n",
    "scaled_df = pd.DataFrame(d, columns=california_housing.data.columns)\n",
    "print(scaled_df)\n"
   ]
  },
  {
   "cell_type": "markdown",
   "id": "98dff5a6-d0fb-4148-b189-41edec22b533",
   "metadata": {},
   "source": [
    "# Using the scikit-learn preprocessing.MinMaxScaler() Function to Normalize Data\n",
    "\n",
    "You can use the scikit-learn preprocessing.MinMaxScaler() function to normalize each feature by scaling the data to a range.\n",
    "\n",
    "The MinMaxScaler() function scales each feature individually so that the values have a given minimum and maximum value, with a default of 0 and 1.\n",
    "The formula to scale feature values to between 0 and 1 is:\n",
    "\n",
    "formula for feature scaling\n",
    "Subtract the minimum value from each entry and then divide the result by the range, where range is the difference between the maximum value and the minimum value.\n",
    "\n",
    "The following example demonstrates how to use the MinMaxScaler() function to normalize the California Housing dataset:\n"
   ]
  },
  {
   "cell_type": "code",
   "execution_count": 13,
   "id": "308379d2-6bc9-47e6-8d3e-2c37a300e47c",
   "metadata": {},
   "outputs": [
    {
     "name": "stdout",
     "output_type": "stream",
     "text": [
      "The history saving thread hit an unexpected error (OperationalError('attempt to write a readonly database')).History will not be written to the database.\n",
      "         MedInc  HouseAge  AveRooms  AveBedrms  Population  AveOccup  \\\n",
      "0      0.539668  0.784314  0.043512   0.020469    0.008941  0.001499   \n",
      "1      0.538027  0.392157  0.038224   0.018929    0.067210  0.001141   \n",
      "2      0.466028  1.000000  0.052756   0.021940    0.013818  0.001698   \n",
      "3      0.354699  1.000000  0.035241   0.021929    0.015555  0.001493   \n",
      "4      0.230776  1.000000  0.038534   0.022166    0.015752  0.001198   \n",
      "...         ...       ...       ...        ...         ...       ...   \n",
      "20635  0.073130  0.470588  0.029769   0.023715    0.023599  0.001503   \n",
      "20636  0.141853  0.333333  0.037344   0.029124    0.009894  0.001956   \n",
      "20637  0.082764  0.313725  0.030904   0.023323    0.028140  0.001314   \n",
      "20638  0.094295  0.333333  0.031783   0.024859    0.020684  0.001152   \n",
      "20639  0.130253  0.294118  0.031252   0.024573    0.038790  0.001549   \n",
      "\n",
      "       Latitude  Longitude  \n",
      "0      0.567481   0.211155  \n",
      "1      0.565356   0.212151  \n",
      "2      0.564293   0.210159  \n",
      "3      0.564293   0.209163  \n",
      "4      0.564293   0.209163  \n",
      "...         ...        ...  \n",
      "20635  0.737513   0.324701  \n",
      "20636  0.738576   0.312749  \n",
      "20637  0.732200   0.311753  \n",
      "20638  0.732200   0.301793  \n",
      "20639  0.725824   0.309761  \n",
      "\n",
      "[20640 rows x 8 columns]\n"
     ]
    }
   ],
   "source": [
    "from sklearn import preprocessing\n",
    "import pandas as pd\n",
    "\n",
    "from sklearn.datasets import fetch_california_housing\n",
    "california_housing = fetch_california_housing(as_frame=True)\n",
    "\n",
    "scaler = preprocessing.MinMaxScaler()\n",
    "d = scaler.fit_transform(california_housing.data)\n",
    "scaled_df = pd.DataFrame(d, columns=california_housing.data.columns)\n",
    "print(scaled_df)\n"
   ]
  },
  {
   "cell_type": "code",
   "execution_count": 14,
   "id": "5568bb32-1681-4a6f-973e-c7b845ddaa29",
   "metadata": {},
   "outputs": [
    {
     "name": "stdout",
     "output_type": "stream",
     "text": [
      "         MedInc  HouseAge  AveRooms  AveBedrms  Population  AveOccup  \\\n",
      "0      1.079337  1.568627  0.087025   0.040937    0.017882  0.002999   \n",
      "1      1.076054  0.784314  0.076448   0.037859    0.134421  0.002281   \n",
      "2      0.932056  2.000000  0.105513   0.043880    0.027635  0.003396   \n",
      "3      0.709397  2.000000  0.070482   0.043857    0.031111  0.002987   \n",
      "4      0.461552  2.000000  0.077068   0.044333    0.031503  0.002397   \n",
      "...         ...       ...       ...        ...         ...       ...   \n",
      "20635  0.146260  0.941176  0.059538   0.047431    0.047199  0.003007   \n",
      "20636  0.283706  0.666667  0.074688   0.058248    0.019788  0.003912   \n",
      "20637  0.165529  0.627451  0.061808   0.046646    0.056280  0.002629   \n",
      "20638  0.188591  0.666667  0.063565   0.049719    0.041369  0.002303   \n",
      "20639  0.260507  0.588235  0.062505   0.049146    0.077581  0.003098   \n",
      "\n",
      "       Latitude  Longitude  \n",
      "0      1.134963   0.422311  \n",
      "1      1.130712   0.424303  \n",
      "2      1.128587   0.420319  \n",
      "3      1.128587   0.418327  \n",
      "4      1.128587   0.418327  \n",
      "...         ...        ...  \n",
      "20635  1.475027   0.649402  \n",
      "20636  1.477152   0.625498  \n",
      "20637  1.464400   0.623506  \n",
      "20638  1.464400   0.603586  \n",
      "20639  1.451647   0.619522  \n",
      "\n",
      "[20640 rows x 8 columns]\n"
     ]
    }
   ],
   "source": [
    "from sklearn import preprocessing\n",
    "import pandas as pd\n",
    "\n",
    "from sklearn.datasets import fetch_california_housing\n",
    "california_housing = fetch_california_housing(as_frame=True)\n",
    "\n",
    "scaler = preprocessing.MinMaxScaler(feature_range=(0, 2))\n",
    "d = scaler.fit_transform(california_housing.data)\n",
    "scaled_df = pd.DataFrame(d, columns=california_housing.data.columns)\n",
    "print(scaled_df)\n"
   ]
  },
  {
   "cell_type": "code",
   "execution_count": null,
   "id": "5afa25b6-d8fa-4ba0-86a5-21badbfcdf77",
   "metadata": {},
   "outputs": [],
   "source": []
  }
 ],
 "metadata": {
  "kernelspec": {
   "display_name": "Python 3 (ipykernel)",
   "language": "python",
   "name": "python3"
  },
  "language_info": {
   "codemirror_mode": {
    "name": "ipython",
    "version": 3
   },
   "file_extension": ".py",
   "mimetype": "text/x-python",
   "name": "python",
   "nbconvert_exporter": "python",
   "pygments_lexer": "ipython3",
   "version": "3.9.19"
  }
 },
 "nbformat": 4,
 "nbformat_minor": 5
}
